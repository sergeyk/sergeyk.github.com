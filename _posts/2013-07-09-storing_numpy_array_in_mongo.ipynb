---
title: Storing numpy data in mongodb
abstract:
|
    Showing that cPickle protocol=2 is fastest for storing numpy arrays into mongodb.
category: Notes
notebook: true
---

{
 "metadata": {
  "name": "storing_numpy_array_in_mongo"
 },
 "nbformat": 3,
 "nbformat_minor": 0,
 "worksheets": [
  {
   "cells": [
    {
     "cell_type": "markdown",
     "metadata": {},
     "source": [
      "Exploring different ways to store a numpy array in MongoDB.\n",
      "Conclusion: cPickle with protocol=2 is fastest."
     ]
    },
    {
     "cell_type": "code",
     "collapsed": false,
     "input": [
      "import numpy as np\n",
      "import cPickle\n",
      "from pymongo import MongoClient\n",
      "from bson.binary import Binary\n",
      "# run `mongod` in another shell to enable this connection\n",
      "conn = MongoClient()\n",
      "collection = conn.test_database.random_arrays"
     ],
     "language": "python",
     "metadata": {},
     "outputs": [],
     "prompt_number": 1
    },
    {
     "cell_type": "code",
     "collapsed": false,
     "input": [
      "# Using tolist()\n",
      "collection.remove()\n",
      "print(\"inserting with tolist()\")\n",
      "%timeit collection.insert({'tolist': np.random.rand(50,3).tolist()})\n",
      "print(\"reading tolist()\")\n",
      "%timeit [np.array(x['tolist']) for x in collection.find()]"
     ],
     "language": "python",
     "metadata": {},
     "outputs": [
      {
       "output_type": "stream",
       "stream": "stdout",
       "text": [
        "inserting with tolist()\n",
        "1000 loops, best of 3: 248 us per loop"
       ]
      },
      {
       "output_type": "stream",
       "stream": "stdout",
       "text": [
        "\n",
        "reading tolist()\n",
        "1 loops, best of 3: 1.09 s per loop"
       ]
      },
      {
       "output_type": "stream",
       "stream": "stdout",
       "text": [
        "\n"
       ]
      }
     ],
     "prompt_number": 2
    },
    {
     "cell_type": "code",
     "collapsed": false,
     "input": [
      "# Using cPickle with default ASCII protocol.\n",
      "collection.remove()\n",
      "print(\"inserting with cpickle\")\n",
      "%timeit collection.insert({'cpickle': Binary(cPickle.dumps(np.random.rand(50,3)))})\n",
      "print(\"reading cpickle\")\n",
      "%timeit -n 100 [cPickle.loads(x['cpickle']) for x in collection.find()]"
     ],
     "language": "python",
     "metadata": {},
     "outputs": [
      {
       "output_type": "stream",
       "stream": "stdout",
       "text": [
        "inserting with cpickle\n",
        "1000 loops, best of 3: 359 us per loop"
       ]
      },
      {
       "output_type": "stream",
       "stream": "stdout",
       "text": [
        "\n",
        "reading cpickle\n",
        "100 loops, best of 3: 245 ms per loop"
       ]
      },
      {
       "output_type": "stream",
       "stream": "stdout",
       "text": [
        "\n"
       ]
      }
     ],
     "prompt_number": 3
    },
    {
     "cell_type": "code",
     "collapsed": false,
     "input": [
      "# Using cPickle with fast protocol=2.\n",
      "collection.remove()\n",
      "print(\"inserting with cpickle protocol 2\")\n",
      "%timeit collection.insert({'cpickle': Binary(cPickle.dumps(np.random.rand(50,3), protocol=2))})\n",
      "print(\"reading cpickle protocol 2\")\n",
      "%timeit -n 100 [cPickle.loads(x['cpickle']) for x in collection.find()]"
     ],
     "language": "python",
     "metadata": {},
     "outputs": [
      {
       "output_type": "stream",
       "stream": "stdout",
       "text": [
        "inserting with cpickle protocol 2\n",
        "1000 loops, best of 3: 208 us per loop"
       ]
      },
      {
       "output_type": "stream",
       "stream": "stdout",
       "text": [
        "\n",
        "reading cpickle protocol 2\n",
        "100 loops, best of 3: 97.3 ms per loop"
       ]
      },
      {
       "output_type": "stream",
       "stream": "stdout",
       "text": [
        "\n"
       ]
      }
     ],
     "prompt_number": 4
    }
   ],
   "metadata": {}
  }
 ]
}
